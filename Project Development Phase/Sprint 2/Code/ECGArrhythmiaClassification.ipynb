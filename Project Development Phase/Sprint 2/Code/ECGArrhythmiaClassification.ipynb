{
  "cells": [
    {
      "cell_type": "code",
      "execution_count": 1,
      "metadata": {
        "colab": {
          "base_uri": "https://localhost:8080/"
        },
        "id": "aKLpppwg1SSP",
        "outputId": "93b3f68f-7c35-4477-c06b-0c80c48f9520"
      },
      "outputs": [
        {
          "name": "stdout",
          "output_type": "stream",
          "text": [
            "Mounted at /content/drive\n"
          ]
        }
      ],
      "source": [
        "# from google.colab import drive\n",
        "# drive.mount('/content/drive')"
      ]
    },
    {
      "cell_type": "code",
      "execution_count": null,
      "metadata": {
        "colab": {
          "base_uri": "https://localhost:8080/"
        },
        "id": "CWS_hJgJ1pUj",
        "outputId": "4a758d48-fcf0-422e-8f28-308fd78f32fb"
      },
      "outputs": [],
      "source": [
        "# !unzip \"/content/drive/MyDrive/Classification of Arrhythmia by Using Deep Learning with 2-D ECG Spectral Image Representation.zip\" -d \"/content\""
      ]
    },
    {
      "cell_type": "code",
      "execution_count": 3,
      "metadata": {
        "id": "epqqgOqD1P3m"
      },
      "outputs": [],
      "source": [
        "from keras.preprocessing.image import ImageDataGenerator"
      ]
    },
    {
      "cell_type": "code",
      "execution_count": 4,
      "metadata": {
        "id": "vcLJvv2J1P3q"
      },
      "outputs": [],
      "source": [
        "train_datagen = ImageDataGenerator(\n",
        "    rescale=1./255, shear_range=0.2, zoom_range=0.2, horizontal_flip=True\n",
        ")\n",
        "test_datagen = ImageDataGenerator(\n",
        "    rescale=1./255\n",
        ")"
      ]
    },
    {
      "cell_type": "code",
      "execution_count": 5,
      "metadata": {
        "colab": {
          "base_uri": "https://localhost:8080/"
        },
        "id": "eVj8M83w1P3r",
        "outputId": "fa77cd78-9dd2-43ed-b1b5-4feede95c4f7"
      },
      "outputs": [
        {
          "name": "stdout",
          "output_type": "stream",
          "text": [
            "Found 15341 images belonging to 6 classes.\n",
            "Found 6825 images belonging to 6 classes.\n"
          ]
        }
      ],
      "source": [
        "X_train = train_datagen.flow_from_directory(directory='data/train', target_size=(64,64), batch_size=32, class_mode='categorical')\n",
        "X_test = test_datagen.flow_from_directory(directory='data/test', target_size=(64,64), batch_size=32, class_mode='categorical')"
      ]
    },
    {
      "cell_type": "code",
      "execution_count": 6,
      "metadata": {
        "id": "FMf5NUYp1P3s"
      },
      "outputs": [],
      "source": [
        "import numpy as np\n",
        "import tensorflow\n",
        "from tensorflow.keras.models import Sequential\n",
        "from tensorflow.keras.layers import Dense, Flatten, Conv2D, MaxPooling2D\n"
      ]
    },
    {
      "cell_type": "code",
      "execution_count": 7,
      "metadata": {
        "id": "IoeqnZua1P3s"
      },
      "outputs": [],
      "source": [
        "# model definition\n",
        "model = Sequential()\n",
        "model.add(Conv2D(32, (3,3), input_shape=(64,64,3), activation='relu'))\n",
        "model.add(MaxPooling2D(pool_size=(2,2)))\n",
        "model.add(Conv2D(32, (3,3), input_shape=(64,64,3), activation='relu'))\n",
        "model.add(MaxPooling2D(pool_size=(2,2)))\n",
        "model.add(Flatten())\n",
        "model.add(Dense(32))\n",
        "model.add(Dense(6, activation='softmax'))"
      ]
    },
    {
      "cell_type": "code",
      "execution_count": 8,
      "metadata": {
        "colab": {
          "base_uri": "https://localhost:8080/"
        },
        "id": "CWvNiM4g1P3t",
        "outputId": "34836f94-5b78-4e8e-c4bb-957c670607a2"
      },
      "outputs": [
        {
          "name": "stdout",
          "output_type": "stream",
          "text": [
            "Model: \"sequential\"\n",
            "_________________________________________________________________\n",
            " Layer (type)                Output Shape              Param #   \n",
            "=================================================================\n",
            " conv2d (Conv2D)             (None, 62, 62, 32)        896       \n",
            "                                                                 \n",
            " max_pooling2d (MaxPooling2D  (None, 31, 31, 32)       0         \n",
            " )                                                               \n",
            "                                                                 \n",
            " conv2d_1 (Conv2D)           (None, 29, 29, 32)        9248      \n",
            "                                                                 \n",
            " max_pooling2d_1 (MaxPooling  (None, 14, 14, 32)       0         \n",
            " 2D)                                                             \n",
            "                                                                 \n",
            " flatten (Flatten)           (None, 6272)              0         \n",
            "                                                                 \n",
            " dense (Dense)               (None, 32)                200736    \n",
            "                                                                 \n",
            " dense_1 (Dense)             (None, 6)                 198       \n",
            "                                                                 \n",
            "=================================================================\n",
            "Total params: 211,078\n",
            "Trainable params: 211,078\n",
            "Non-trainable params: 0\n",
            "_________________________________________________________________\n"
          ]
        }
      ],
      "source": [
        "model.summary()"
      ]
    },
    {
      "cell_type": "code",
      "execution_count": 9,
      "metadata": {
        "id": "-eq4L1Av1P3t"
      },
      "outputs": [],
      "source": [
        "model.compile(optimizer='adam', loss='categorical_crossentropy', metrics=['accuracy'])"
      ]
    },
    {
      "cell_type": "code",
      "execution_count": 10,
      "metadata": {
        "colab": {
          "base_uri": "https://localhost:8080/"
        },
        "id": "reLwL5ou2V5C",
        "outputId": "379a7ef2-2522-487d-ec08-4d3728d255d8"
      },
      "outputs": [
        {
          "name": "stdout",
          "output_type": "stream",
          "text": [
            "Epoch 1/10\n",
            "480/480 [==============================] - 37s 53ms/step - loss: 0.8551 - accuracy: 0.7090 - val_loss: 0.7419 - val_accuracy: 0.7771\n",
            "Epoch 2/10\n",
            "480/480 [==============================] - 27s 55ms/step - loss: 0.3563 - accuracy: 0.8958 - val_loss: 0.4946 - val_accuracy: 0.8541\n",
            "Epoch 3/10\n",
            "480/480 [==============================] - 25s 53ms/step - loss: 0.2785 - accuracy: 0.9185 - val_loss: 0.4026 - val_accuracy: 0.8722\n",
            "Epoch 4/10\n",
            "480/480 [==============================] - 25s 52ms/step - loss: 0.2367 - accuracy: 0.9306 - val_loss: 0.4056 - val_accuracy: 0.8709\n",
            "Epoch 5/10\n",
            "480/480 [==============================] - 25s 52ms/step - loss: 0.2109 - accuracy: 0.9392 - val_loss: 0.3596 - val_accuracy: 0.8753\n",
            "Epoch 6/10\n",
            "480/480 [==============================] - 26s 55ms/step - loss: 0.1891 - accuracy: 0.9426 - val_loss: 0.3980 - val_accuracy: 0.8856\n",
            "Epoch 7/10\n",
            "480/480 [==============================] - 25s 52ms/step - loss: 0.1610 - accuracy: 0.9509 - val_loss: 0.3494 - val_accuracy: 0.9017\n",
            "Epoch 8/10\n",
            "480/480 [==============================] - 25s 53ms/step - loss: 0.1445 - accuracy: 0.9559 - val_loss: 0.2847 - val_accuracy: 0.9121\n",
            "Epoch 9/10\n",
            "480/480 [==============================] - 26s 53ms/step - loss: 0.1354 - accuracy: 0.9576 - val_loss: 0.3341 - val_accuracy: 0.9017\n",
            "Epoch 10/10\n",
            "480/480 [==============================] - 27s 56ms/step - loss: 0.1242 - accuracy: 0.9617 - val_loss: 0.3153 - val_accuracy: 0.9221\n"
          ]
        },
        {
          "data": {
            "text/plain": [
              "<keras.callbacks.History at 0x7f962d3282d0>"
            ]
          },
          "execution_count": 10,
          "metadata": {},
          "output_type": "execute_result"
        }
      ],
      "source": [
        "model.fit(X_train, steps_per_epoch=len(X_train), epochs=10, validation_data=X_test, validation_steps = len(X_test))"
      ]
    },
    {
      "cell_type": "code",
      "execution_count": 11,
      "metadata": {
        "id": "c7_Yf4v84fNe"
      },
      "outputs": [],
      "source": [
        "model.save('ECG.h5')"
      ]
    },
    {
      "cell_type": "code",
      "execution_count": 12,
      "metadata": {
        "id": "74aU89El4gcd"
      },
      "outputs": [],
      "source": [
        "#prediction\n",
        "from tensorflow.keras.models import load_model\n",
        "from keras.preprocessing import image\n",
        "model = load_model('ECG.h5')"
      ]
    },
    {
      "cell_type": "code",
      "execution_count": null,
      "metadata": {
        "colab": {
          "base_uri": "https://localhost:8080/",
          "height": 380
        },
        "id": "d4YeCEQr4hg3",
        "outputId": "4502ebdc-e958-4874-8d5b-048bd59657cc"
      },
      "outputs": [],
      "source": [
        "img = image.load_img('uploads/PAC.png', target_size=(64,64))\n",
        "x = image.img_to_array(img)\n",
        "x = np.expand_dims(x, axis=0)\n",
        "pred = model.predict_classes(x)"
      ]
    },
    {
      "cell_type": "code",
      "execution_count": null,
      "metadata": {
        "id": "w3znGLYW4iy3"
      },
      "outputs": [],
      "source": [
        "pred"
      ]
    },
    {
      "cell_type": "code",
      "execution_count": null,
      "metadata": {
        "id": "TWO3qT137iSm"
      },
      "outputs": [],
      "source": [
        "index = ['Left Bundle Branch Block', 'Normal', 'Premature Atrial Contraction', 'Premature Ventricular Contraction', 'Right Bundle Branch Block', 'Ventricular Fibrillation']\n",
        "result = str(index[pred[0]])"
      ]
    },
    {
      "cell_type": "code",
      "execution_count": null,
      "metadata": {
        "id": "iTzBex5V7wc-"
      },
      "outputs": [],
      "source": [
        "result"
      ]
    }
  ],
  "metadata": {
    "accelerator": "GPU",
    "colab": {
      "provenance": []
    },
    "gpuClass": "standard",
    "kernelspec": {
      "display_name": "Python 3.9.13 64-bit (microsoft store)",
      "language": "python",
      "name": "python3"
    },
    "language_info": {
      "codemirror_mode": {
        "name": "ipython",
        "version": 3
      },
      "file_extension": ".py",
      "mimetype": "text/x-python",
      "name": "python",
      "nbconvert_exporter": "python",
      "pygments_lexer": "ipython3",
      "version": "3.9.13"
    },
    "orig_nbformat": 4,
    "vscode": {
      "interpreter": {
        "hash": "741abe6bbf18458da69ade76c412238b64c8fa3b98f5315b280b5b0ea47d6671"
      }
    }
  },
  "nbformat": 4,
  "nbformat_minor": 0
}
